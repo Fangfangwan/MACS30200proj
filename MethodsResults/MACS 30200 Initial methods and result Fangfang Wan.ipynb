{
 "cells": [
  {
   "cell_type": "code",
   "execution_count": null,
   "metadata": {
    "collapsed": true
   },
   "outputs": [],
   "source": [
    "import pandas as pd\n",
    "import numpy as np\n",
    "import csv\n",
    "import bs4\n",
    "import math"
   ]
  },
  {
   "cell_type": "code",
   "execution_count": null,
   "metadata": {},
   "outputs": [],
   "source": [
    "biz = pd.read_csv('yelp_business.csv')\n",
    "biz.head()"
   ]
  },
  {
   "cell_type": "code",
   "execution_count": null,
   "metadata": {},
   "outputs": [],
   "source": [
    "biz_att = pd.read_csv('yelp_business_attributes.csv')\n",
    "biz_att.head()"
   ]
  },
  {
   "cell_type": "code",
   "execution_count": null,
   "metadata": {
    "scrolled": true
   },
   "outputs": [],
   "source": [
    "biz_hrs = pd.read_csv('yelp_business_hours.csv')\n",
    "biz_hrs.head()"
   ]
  },
  {
   "cell_type": "code",
   "execution_count": null,
   "metadata": {
    "collapsed": true
   },
   "outputs": [],
   "source": [
    "merge1 = biz.merge(biz_att, how='outer', on='business_id')"
   ]
  },
  {
   "cell_type": "code",
   "execution_count": null,
   "metadata": {
    "collapsed": true
   },
   "outputs": [],
   "source": [
    "final_df = merge1.merge(biz_hrs, how='outer', on='business_id')"
   ]
  },
  {
   "cell_type": "code",
   "execution_count": null,
   "metadata": {},
   "outputs": [],
   "source": [
    "final_df.head(20)"
   ]
  },
  {
   "cell_type": "code",
   "execution_count": null,
   "metadata": {},
   "outputs": [],
   "source": [
    "print(final_df.columns[:10],\\\n",
    "final_df.columns[10:20],\\\n",
    "final_df.columns[20:30],\\\n",
    "final_df.columns[30:40],\\\n",
    "final_df.columns[40:50],\\\n",
    "final_df.columns[50:60],\\\n",
    "final_df.columns[60:70],\\\n",
    "final_df.columns[70:80],\\\n",
    "final_df.columns[80:90],\\\n",
    "final_df.columns[90:100],\\\n",
    "final_df.columns[100:110],\\\n",
    "final_df.columns[110:])"
   ]
  },
  {
   "cell_type": "code",
   "execution_count": null,
   "metadata": {},
   "outputs": [],
   "source": [
    "final_df['Ambience_romantic'].unique()"
   ]
  },
  {
   "cell_type": "code",
   "execution_count": null,
   "metadata": {},
   "outputs": [],
   "source": [
    "final_df['monday'].unique()"
   ]
  },
  {
   "cell_type": "code",
   "execution_count": null,
   "metadata": {
    "collapsed": true
   },
   "outputs": [],
   "source": [
    "s = '7:30-17:0'"
   ]
  },
  {
   "cell_type": "code",
   "execution_count": null,
   "metadata": {},
   "outputs": [],
   "source": [
    "lst = s.split(sep='-')\n",
    "lst"
   ]
  },
  {
   "cell_type": "code",
   "execution_count": null,
   "metadata": {},
   "outputs": [],
   "source": [
    "lst[0].split(sep=':')"
   ]
  },
  {
   "cell_type": "code",
   "execution_count": null,
   "metadata": {},
   "outputs": [],
   "source": [
    "lst[1].split(sep=':')"
   ]
  },
  {
   "cell_type": "code",
   "execution_count": null,
   "metadata": {},
   "outputs": [],
   "source": [
    "17-7+(0-30)/60"
   ]
  },
  {
   "cell_type": "code",
   "execution_count": null,
   "metadata": {},
   "outputs": [],
   "source": [
    "cities = final_df['city'].value_counts()[:20].index\n",
    "final_df['city'].value_counts()[:10]"
   ]
  },
  {
   "cell_type": "code",
   "execution_count": null,
   "metadata": {},
   "outputs": [],
   "source": [
    "for city in cities:\n",
    "    final_df[city] = final_df['city'].apply(lambda x: 1 if x == city else 0)"
   ]
  },
  {
   "cell_type": "code",
   "execution_count": null,
   "metadata": {},
   "outputs": [],
   "source": [
    "city_lst = []\n",
    "days = ['monday', 'tuesday', 'wednesday', 'thursday', 'friday', 'saturday', 'sunday']\n",
    "for city in cities:\n",
    "    city_lst.append(city)\n",
    "clst2 = []\n",
    "for i in range(0, 10):\n",
    "    print(cities[i], i)\n",
    "    clst2.append(cities[i])\n",
    "days_lst = []\n",
    "for day in days:\n",
    "    day2 = day + 'hrs'\n",
    "    days_lst.append(day2)\n",
    "ind_vars = days_lst + city_lst + ['review_count']\n",
    "vals=['stars']+ind_vars"
   ]
  },
  {
   "cell_type": "code",
   "execution_count": null,
   "metadata": {},
   "outputs": [],
   "source": [
    "df_use = pd.DataFrame(columns=vals)\n",
    "len(final_df)"
   ]
  },
  {
   "cell_type": "code",
   "execution_count": null,
   "metadata": {},
   "outputs": [],
   "source": [
    "import numbers\n",
    "vals=['stars']+ind_vars\n",
    "df3 = pd.DataFrame(columns=vals)\n",
    "days = ['monday', 'tuesday', 'wednesday', 'thursday', 'friday', 'saturday', 'sunday']\n",
    "for idx, shop in final_df.iterrows():\n",
    "    row = [shop['stars']]\n",
    "    for day in days:\n",
    "        if shop[day] != 'None' and shop[day] != None and shop[day] != 'Na' and shop[day] != 'nan' and \\\n",
    "        isinstance(shop[day], numbers.Number) == False:\n",
    "            lst = shop[day].split(sep='-')\n",
    "            start_time = lst[0]\n",
    "            close_time = lst[1]\n",
    "            start_times = start_time.split(sep=':')\n",
    "            close_times = close_time.split(sep=':')\n",
    "            start_hour = start_times[0]\n",
    "            start_min = start_times[1]\n",
    "            close_hour = close_times[0]\n",
    "            close_min = close_times[1]\n",
    "            hrs = float(close_hour) - float(start_hour) + (float(close_min) + float(start_min))/60\n",
    "        else:\n",
    "                hrs = 0\n",
    "        row.append(hrs)\n",
    "    for city in city_lst:\n",
    "        row.append(shop[city])\n",
    "    row.append(shop['review_count'])\n",
    "    shop_df = pd.DataFrame([row], columns=vals)\n",
    "    df3 = df3.append(shop_df, ignore_index=True)"
   ]
  },
  {
   "cell_type": "code",
   "execution_count": null,
   "metadata": {},
   "outputs": [],
   "source": [
    "df3 = pd.read_csv('MACS30200Projectdata.txt')\n",
    "import statsmodels.api as sm\n",
    "y = df3['stars']\n",
    "X = df3[['mondayhrs', 'tuesdayhrs', 'wednesdayhrs', 'thursdayhrs', 'fridayhrs', 'saturdayhrs', \\\n",
    "          'sundayhrs'] + clst2 + ['review_count']]\n",
    "X = sm.add_constant(X)\n",
    "lg = sm.OLS(y, X.astype(float), missing='drop').fit()\n",
    "print(lg.summary())"
   ]
  },
  {
   "cell_type": "code",
   "execution_count": null,
   "metadata": {},
   "outputs": [],
   "source": [
    "X2 = df3[['mondayhrs', 'tuesdayhrs', 'wednesdayhrs', 'thursdayhrs', 'fridayhrs', 'saturdayhrs', \\\n",
    "          'sundayhrs', 'review_count']]\n",
    "X2 = sm.add_constant(X2)\n",
    "lg2 = sm.OLS(y, X2.astype(float), missing='drop').fit()\n",
    "print(lg2.summary())"
   ]
  },
  {
   "cell_type": "code",
   "execution_count": null,
   "metadata": {},
   "outputs": [],
   "source": [
    "lg2"
   ]
  },
  {
   "cell_type": "code",
   "execution_count": null,
   "metadata": {
    "collapsed": true
   },
   "outputs": [],
   "source": [
    "import csv\n",
    "df3.to_csv('/Users/apple/Documents/MACS30200Projectdata.txt')"
   ]
  },
  {
   "cell_type": "code",
   "execution_count": null,
   "metadata": {
    "collapsed": true
   },
   "outputs": [],
   "source": [
    "import requests\n",
    "import time\n",
    "import bs4\n",
    "import json\n",
    "import pandas as pd\n",
    "import numpy as np"
   ]
  },
  {
   "cell_type": "code",
   "execution_count": null,
   "metadata": {},
   "outputs": [],
   "source": [
    "cols = ['stars', 'review_count','mondayhrs', 'tuesdayhrs', 'wednesdayhrs', 'thursdayhrs', 'fridayhrs', 'saturdayhrs', 'sundayhrs']\n",
    "def calc_hrs(str_start, str_close):\n",
    "    #print(str_start, str_close)\n",
    "    start_time = str_start.split(sep=':')\n",
    "    close_time = str_close.split(sep=':')\n",
    "    start_half = start_time[1][-2: ]\n",
    "    close_half = close_time[1][-2: ]\n",
    "    start_hour = start_time[0]\n",
    "    start_min = start_time[1].strip(start_half).strip()\n",
    "    close_hour = close_time[0]\n",
    "    close_min = close_time[1].strip(close_half).strip()\n",
    "    if start_half == 'pm' and close_half == 'pm':\n",
    "        hrs = float(close_hour) - float(start_hour) + (float(close_min) + float(start_min))/60\n",
    "    elif start_half == 'am' and close_half == 'pm':\n",
    "        hrs = float(close_hour) + 12 - float(start_hour) + (float(close_min) + float(start_min))/60\n",
    "    elif start_half == 'pm' and close_half == 'am' and close_hour == '12':\n",
    "        hrs = float(close_hour) - float(start_hour) + (float(close_min) + float(start_min))/60\n",
    "    elif start_half == 'pm' and close_half == 'am' and close_hour != 12:\n",
    "        hrs = float(close_hour) + 12 - float(start_hour) + (float(close_min) + float(start_min))/60\n",
    "    elif start_half == 'am' and close_half == 'am' and close_hour != 12:\n",
    "        hrs = float(close_hour) + 24 - float(start_hour) + (float(close_min) + float(start_min))/60\n",
    "    elif start_half == 'am' and close_half == 'am' and close_hour == 12:\n",
    "        hrs = float(close_hour) + 12 - float(start_hour) + (float(close_min) + float(start_min))/60\n",
    "    return hrs\n",
    "\n",
    "def get_biz_info(url):\n",
    "    print(url)\n",
    "    r = requests.get(url)\n",
    "    soup = bs4.BeautifulSoup(r.text, 'html.parser')\n",
    "    star_tag = soup.find_all('script', type=\"application/ld+json\")\n",
    "    d = json.loads(star_tag[0].text)\n",
    "    stars = d['aggregateRating']['ratingValue']\n",
    "    review_count = d['aggregateRating'][\"reviewCount\"]\n",
    "    tag_lst = soup.find_all('th', scope=\"row\")\n",
    "    am_lst = []\n",
    "    pm_lst = []\n",
    "    biz_row = [stars, review_count]\n",
    "    #if url == 'https://www.yelp.com/biz/avec-chicago':\n",
    "        #print('yes!')\n",
    "        #biz_row = biz_row + [12, 12, 12, 12, 12, 10.5, 15]\n",
    "    #elif url.endswith('brazilian-steakhouse-chicago-4'):\n",
    "        #biz_row = biz_row + [8, 8, 8, 8, 8.5, 11, 9.5]\n",
    "   # elif url.endswith('yuzu-sushi-and-robata-grill-chicago'):\n",
    "        #biz_row = biz_row + \n",
    "    #else:\n",
    "    for tag in tag_lst:\n",
    "        tag_text = tag.next_sibling.next_sibling.text.strip().split(\"-\")\n",
    "        #print(tag_text)\n",
    "        #print(tag_text[0], 'yes')\n",
    "        dy = tag.next_sibling.parent.find_all('th', scope=\"row\")\n",
    "        if dy != []:\n",
    "            if dy[0].text in ['Mon', 'Tue', 'Wed', 'Thu', 'Fri', 'Sat', 'Sun']:\n",
    "                if len(tag_text) == 3:\n",
    "                    start1 = tag_text[0].strip()\n",
    "                    close2 = tag_text[2].strip()\n",
    "                    for k in range(0, len(tag_text[1])):\n",
    "                        if tag_text[1][k] == 'm':\n",
    "                            close1 = tag_text[1][0:(k+1)].strip()\n",
    "                            start2 = tag_text[1][(k+1): ].strip()\n",
    "                            break\n",
    "                    hrs1 = calc_hrs(start1, close1) + calc_hrs(start2, close2)\n",
    "                    biz_row.append(hrs1)\n",
    "                elif tag_text[0].strip().endswith('am') or tag_text[0].strip().endswith('pm'):\n",
    "                    start1 = tag_text[0].strip()\n",
    "                    close1 = tag_text[1].strip()\n",
    "                    hrs2 = calc_hrs(start1, close1) \n",
    "                    biz_row.append(hrs2)\n",
    "                elif tag_text[0] == 'Closed':\n",
    "                    biz_row.append(0)\n",
    "    biz_df = pd.DataFrame([biz_row], columns=cols)\n",
    "    return biz_df    \n",
    "\n",
    "def get_page_info(url):\n",
    "    page_df = pd.DataFrame(columns=cols)\n",
    "    r = requests.get(url)\n",
    "    soup = bs4.BeautifulSoup(r.text, 'html.parser')\n",
    "    page_lst = soup.find_all('a', class_=\"biz-name js-analytics-click\")\n",
    "    for tag in page_lst:\n",
    "        biz_url = 'https://www.yelp.com' + tag.get('href')\n",
    "        biz_df = get_biz_info(biz_url)\n",
    "        page_df = page_df.append(biz_df, ignore_index=True)\n",
    "    return page_df\n",
    "            \n",
    "            \n",
    "    \n",
    "def get_df():\n",
    "    tot_df = pd.DataFrame(columns=cols)\n",
    "    for i in range(0, 200, 10):\n",
    "        print(i)\n",
    "        time.sleep(2)\n",
    "        url = 'https://www.yelp.com/search?find_loc=Chicago,+IL&start={}'.format(i)\n",
    "        page_df = get_page_info(url)\n",
    "        tot_df = tot_df.append(page_df, ignore_index=True)\n",
    "    return tot_df"
   ]
  },
  {
   "cell_type": "code",
   "execution_count": null,
   "metadata": {
    "collapsed": true
   },
   "outputs": [],
   "source": [
    "url = 'https://www.yelp.com/biz/avec-chicago'\n",
    "r = requests.get(url)\n",
    "soup = bs4.BeautifulSoup(r.text, 'html.parser')\n",
    "tag_lst = soup.find_all('th', scope=\"row\")"
   ]
  },
  {
   "cell_type": "code",
   "execution_count": null,
   "metadata": {},
   "outputs": [],
   "source": [
    "tag_lst[0].next_sibling.parent.find_all('th', scope=\"row\")[0].text"
   ]
  },
  {
   "cell_type": "code",
   "execution_count": null,
   "metadata": {},
   "outputs": [],
   "source": [
    "a[1].strip()"
   ]
  },
  {
   "cell_type": "code",
   "execution_count": null,
   "metadata": {},
   "outputs": [],
   "source": [
    "url = 'https://www.yelp.com/biz/avec-chicago'\n",
    "get_biz_info(url)"
   ]
  },
  {
   "cell_type": "code",
   "execution_count": null,
   "metadata": {},
   "outputs": [],
   "source": [
    "df_web = get_df()"
   ]
  },
  {
   "cell_type": "code",
   "execution_count": null,
   "metadata": {},
   "outputs": [],
   "source": [
    "df_web.head()"
   ]
  },
  {
   "cell_type": "code",
   "execution_count": null,
   "metadata": {
    "collapsed": true
   },
   "outputs": [],
   "source": [
    "df_web.to_csv('/Users/apple/Documents/Yelptop200.txt')"
   ]
  },
  {
   "cell_type": "code",
   "execution_count": null,
   "metadata": {},
   "outputs": [],
   "source": [
    "df_web['const'] = pd.Series(1, index=df_web.index)\n",
    "df_web.head()"
   ]
  },
  {
   "cell_type": "code",
   "execution_count": null,
   "metadata": {},
   "outputs": [],
   "source": [
    "MSE_lst = []\n",
    "for idx, shop in df_web.iterrows():\n",
    "    predicted_stars = 3.4831*float(shop['const']) + (-0.0235)*float(shop['mondayhrs']) + \\\n",
    "    0.0127*float(shop['tuesdayhrs']) + 0.0221*float(shop['wednesdayhrs']) +\\\n",
    "    0.0122*float(shop['thursdayhrs']) + 0.0164*float(shop['fridayhrs']) + (-0.0099)*float(shop['saturdayhrs']) + \\\n",
    "    (-0.0180)*float(shop['sundayhrs']) + 0.0004*float(shop['review_count'])\n",
    "    MSE = (predicted_stars - real_stars) ** 2\n",
    "    MSE_lst.append(MSE)"
   ]
  },
  {
   "cell_type": "code",
   "execution_count": null,
   "metadata": {},
   "outputs": [],
   "source": [
    "print(math.sqrt(sum(MSE_lst)/len(MSE_lst)), sum(MSE_lst)/len(MSE_lst))"
   ]
  },
  {
   "cell_type": "code",
   "execution_count": null,
   "metadata": {},
   "outputs": [],
   "source": [
    "df_web.head()"
   ]
  },
  {
   "cell_type": "code",
   "execution_count": null,
   "metadata": {
    "scrolled": true
   },
   "outputs": [],
   "source": [
    "import matplotlib\n",
    "import matplotlib.pyplot as plt\n",
    "from matplotlib import cm\n",
    "import math\n",
    "# This next command is specifically for Jupyter Notebook\n",
    "star = final_df['stars']\n",
    "%matplotlib notebook \n",
    "count, bins, ignored = plt.hist(star, 9, edgecolor='black', normed=True)\n",
    "plt.title('Distribution of Yelp rating stars', fontsize=15)\n",
    "plt.xlabel('Rating stars')\n",
    "plt.ylabel('Portion of businesses')"
   ]
  },
  {
   "cell_type": "code",
   "execution_count": null,
   "metadata": {},
   "outputs": [],
   "source": [
    "final_df['stars'].value_counts()"
   ]
  },
  {
   "cell_type": "code",
   "execution_count": null,
   "metadata": {},
   "outputs": [],
   "source": [
    "final_df['stars'].unique()"
   ]
  },
  {
   "cell_type": "markdown",
   "metadata": {
    "collapsed": true
   },
   "source": [
    "References:  \n",
    "1. https://stackoverflow.com/questions/33094056/is-it-possible-to-append-series-to-rows-of-dataframe-without-making-a-list-first  \n",
    "2. https://stackoverflow.com/questions/12555323/adding-new-column-to-existing-dataframe-in-python-pandas  \n",
    "3. Our CS122 Project from the last quarter.  "
   ]
  },
  {
   "cell_type": "code",
   "execution_count": null,
   "metadata": {
    "collapsed": true
   },
   "outputs": [],
   "source": []
  }
 ],
 "metadata": {
  "kernelspec": {
   "display_name": "Python 3",
   "language": "python",
   "name": "python3"
  },
  "language_info": {
   "codemirror_mode": {
    "name": "ipython",
    "version": 3
   },
   "file_extension": ".py",
   "mimetype": "text/x-python",
   "name": "python",
   "nbconvert_exporter": "python",
   "pygments_lexer": "ipython3",
   "version": "3.6.3"
  }
 },
 "nbformat": 4,
 "nbformat_minor": 2
}
